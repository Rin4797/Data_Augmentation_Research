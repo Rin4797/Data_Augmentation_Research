{
  "nbformat": 4,
  "nbformat_minor": 0,
  "metadata": {
    "colab": {
      "provenance": [],
      "authorship_tag": "ABX9TyN2d5P8YD/SgEDLy85R6Ah4",
      "include_colab_link": true
    },
    "kernelspec": {
      "name": "python3",
      "display_name": "Python 3"
    },
    "language_info": {
      "name": "python"
    }
  },
  "cells": [
    {
      "cell_type": "markdown",
      "metadata": {
        "id": "view-in-github",
        "colab_type": "text"
      },
      "source": [
        "<a href=\"https://colab.research.google.com/github/Rin4797/Data_Augmentation_Research/blob/main/drafts/MobileNet_try.ipynb\" target=\"_parent\"><img src=\"https://colab.research.google.com/assets/colab-badge.svg\" alt=\"Open In Colab\"/></a>"
      ]
    },
    {
      "cell_type": "code",
      "execution_count": 74,
      "metadata": {
        "id": "d9ymml7txQpv"
      },
      "outputs": [],
      "source": [
        "import numpy as np\n",
        "import matplotlib.pyplot as plt\n",
        "import pandas as pd\n",
        "\n",
        "import pickle\n",
        "\n",
        "import tensorflow as tf\n",
        "\n",
        "from sklearn.utils import shuffle\n",
        "\n",
        "from sklearn.metrics import accuracy_score, confusion_matrix, classification_report\n",
        "from sklearn.metrics import multilabel_confusion_matrix"
      ]
    },
    {
      "cell_type": "markdown",
      "source": [
        "# Формирование датасета"
      ],
      "metadata": {
        "id": "nTYEaXJSxkdI"
      }
    },
    {
      "cell_type": "markdown",
      "source": [
        "## Загрузка данных"
      ],
      "metadata": {
        "id": "h91Vs_TU0EY5"
      }
    },
    {
      "cell_type": "code",
      "source": [
        "!mkdir data\n",
        "%cd data"
      ],
      "metadata": {
        "colab": {
          "base_uri": "https://localhost:8080/"
        },
        "id": "Cdsd8hThxo2U",
        "outputId": "8b47fbea-a6af-4a90-ea05-67d68f4593ee"
      },
      "execution_count": 3,
      "outputs": [
        {
          "output_type": "stream",
          "name": "stdout",
          "text": [
            "/content/data\n"
          ]
        }
      ]
    },
    {
      "cell_type": "code",
      "source": [
        "!wget http://www.cs.toronto.edu/~kriz/cifar-10-python.tar.gz\n",
        "!tar -xvf 'cifar-10-python.tar.gz'\n",
        "!rm cifar-10-python.tar.gz"
      ],
      "metadata": {
        "colab": {
          "base_uri": "https://localhost:8080/"
        },
        "id": "FU2D9fwMxsU0",
        "outputId": "ad966b13-f4f7-4882-fc5a-7f67ce36656e"
      },
      "execution_count": 4,
      "outputs": [
        {
          "output_type": "stream",
          "name": "stdout",
          "text": [
            "--2023-08-06 08:26:40--  http://www.cs.toronto.edu/~kriz/cifar-10-python.tar.gz\n",
            "Resolving www.cs.toronto.edu (www.cs.toronto.edu)... 128.100.3.30\n",
            "Connecting to www.cs.toronto.edu (www.cs.toronto.edu)|128.100.3.30|:80... connected.\n",
            "HTTP request sent, awaiting response... 200 OK\n",
            "Length: 170498071 (163M) [application/x-gzip]\n",
            "Saving to: ‘cifar-10-python.tar.gz’\n",
            "\n",
            "cifar-10-python.tar 100%[===================>] 162.60M  28.9MB/s    in 6.2s    \n",
            "\n",
            "2023-08-06 08:26:46 (26.1 MB/s) - ‘cifar-10-python.tar.gz’ saved [170498071/170498071]\n",
            "\n",
            "cifar-10-batches-py/\n",
            "cifar-10-batches-py/data_batch_4\n",
            "cifar-10-batches-py/readme.html\n",
            "cifar-10-batches-py/test_batch\n",
            "cifar-10-batches-py/data_batch_3\n",
            "cifar-10-batches-py/batches.meta\n",
            "cifar-10-batches-py/data_batch_2\n",
            "cifar-10-batches-py/data_batch_5\n",
            "cifar-10-batches-py/data_batch_1\n"
          ]
        }
      ]
    },
    {
      "cell_type": "code",
      "source": [
        "%cd cifar-10-batches-py\n",
        "!ls\n",
        "%cd ..\n",
        "%cd .."
      ],
      "metadata": {
        "colab": {
          "base_uri": "https://localhost:8080/"
        },
        "id": "3VML3ldu0U1v",
        "outputId": "d63d25ae-c6d8-4706-de9f-2f91ecaf2888"
      },
      "execution_count": 5,
      "outputs": [
        {
          "output_type": "stream",
          "name": "stdout",
          "text": [
            "/content/data/cifar-10-batches-py\n",
            "batches.meta  data_batch_2  data_batch_4  readme.html\n",
            "data_batch_1  data_batch_3  data_batch_5  test_batch\n",
            "/content/data\n",
            "/content\n"
          ]
        }
      ]
    },
    {
      "cell_type": "markdown",
      "source": [
        "## Формирование данных"
      ],
      "metadata": {
        "id": "l-p95n5z0HLS"
      }
    },
    {
      "cell_type": "code",
      "source": [
        "def unpickle(file):\n",
        "    with open(file, 'rb') as fo:\n",
        "        dict = pickle.load(fo, encoding='bytes')\n",
        "    return dict"
      ],
      "metadata": {
        "id": "6O8aqW6J0RG_"
      },
      "execution_count": 6,
      "outputs": []
    },
    {
      "cell_type": "code",
      "source": [
        "# список названия классов\n",
        "\n",
        "cifar_label_data = unpickle('data/cifar-10-batches-py/batches.meta')\n",
        "label_names = cifar_label_data[b'label_names']\n",
        "for i in range(len(label_names)):\n",
        "    label_names[i] = label_names[i].decode('ASCII')\n",
        "label_names"
      ],
      "metadata": {
        "colab": {
          "base_uri": "https://localhost:8080/"
        },
        "id": "GtWOAUer2mmA",
        "outputId": "c146fa83-6577-418e-dd5e-ddc3c2b36a90"
      },
      "execution_count": 7,
      "outputs": [
        {
          "output_type": "execute_result",
          "data": {
            "text/plain": [
              "['airplane',\n",
              " 'automobile',\n",
              " 'bird',\n",
              " 'cat',\n",
              " 'deer',\n",
              " 'dog',\n",
              " 'frog',\n",
              " 'horse',\n",
              " 'ship',\n",
              " 'truck']"
            ]
          },
          "metadata": {},
          "execution_count": 7
        }
      ]
    },
    {
      "cell_type": "code",
      "source": [
        "def image_format(image_data):\n",
        "    return (np.transpose(image_data.reshape(32, 32, 3, order='F'), axes=[1,0,2]))"
      ],
      "metadata": {
        "id": "j2jL60GZ-trU"
      },
      "execution_count": 29,
      "outputs": []
    },
    {
      "cell_type": "code",
      "source": [
        "def unpack_batch(batch_name):\n",
        "    cifar_data = unpickle('data/cifar-10-batches-py/' + batch_name)\n",
        "    data = cifar_data[b'data']\n",
        "    labels = np.array(cifar_data[b'labels'])\n",
        "    return data, labels"
      ],
      "metadata": {
        "id": "h0Y8WchN2fdP"
      },
      "execution_count": 8,
      "outputs": []
    },
    {
      "cell_type": "code",
      "source": [
        "x_train = np.empty((0, 3072))\n",
        "y_train = np.empty((0, ))\n",
        "for i in range(5):\n",
        "    data, labels = unpack_batch('data_batch_' + str(i + 1))\n",
        "    x_train = np.concatenate((x_train, data), axis=0)\n",
        "    y_train = np.concatenate((y_train, labels), axis=0)\n",
        "print(x_train.shape, y_train.shape)"
      ],
      "metadata": {
        "colab": {
          "base_uri": "https://localhost:8080/"
        },
        "id": "YlOqEqDA4fEH",
        "outputId": "0d74945c-6f7d-4b81-9abe-83e4a4c84ab4"
      },
      "execution_count": 9,
      "outputs": [
        {
          "output_type": "stream",
          "name": "stdout",
          "text": [
            "(50000, 3072) (50000,)\n"
          ]
        }
      ]
    },
    {
      "cell_type": "code",
      "source": [
        "x_test, y_test = unpack_batch('test_batch')\n",
        "print(x_test.shape, y_test.shape)"
      ],
      "metadata": {
        "colab": {
          "base_uri": "https://localhost:8080/"
        },
        "id": "aCAaxLpt6Evl",
        "outputId": "97685038-e51e-4e5f-cdd6-b06106b5615f"
      },
      "execution_count": 10,
      "outputs": [
        {
          "output_type": "stream",
          "name": "stdout",
          "text": [
            "(10000, 3072) (10000,)\n"
          ]
        }
      ]
    },
    {
      "cell_type": "markdown",
      "source": [
        "## Предобработка данных"
      ],
      "metadata": {
        "id": "GuZW3gnd6kRk"
      }
    },
    {
      "cell_type": "code",
      "source": [
        "x_train , y_train = shuffle(x_train, y_train)\n",
        "x_test, y_test = shuffle(x_test, y_test)"
      ],
      "metadata": {
        "id": "EckUYgZl74_I"
      },
      "execution_count": 11,
      "outputs": []
    },
    {
      "cell_type": "code",
      "source": [
        "val_size = 10000\n",
        "x_val = x_train[-val_size:]\n",
        "y_val = y_train[-val_size:]\n",
        "x_train = x_train[:-val_size]\n",
        "y_train = y_train[:-val_size]"
      ],
      "metadata": {
        "id": "jqDp9Ekl6n07"
      },
      "execution_count": 12,
      "outputs": []
    },
    {
      "cell_type": "code",
      "source": [
        "# векторизация результатов\n",
        "\n",
        "y_vect_train = tf.keras.utils.to_categorical(y_train)\n",
        "y_vect_test = tf.keras.utils.to_categorical(y_test)\n",
        "y_vect_val = tf.keras.utils.to_categorical(y_val)"
      ],
      "metadata": {
        "id": "tCquJ_m29Vwd"
      },
      "execution_count": 13,
      "outputs": []
    },
    {
      "cell_type": "code",
      "source": [
        "# формирование изображений из входных данных\n",
        "\n",
        "x_image_train = np.array([image_format(i) for i in x_train])\n",
        "x_image_test = np.array([image_format(i) for i in x_test])\n",
        "x_image_val = np.array([image_format(i) for i in x_val])"
      ],
      "metadata": {
        "id": "YkLMo-21--VQ"
      },
      "execution_count": 31,
      "outputs": []
    },
    {
      "cell_type": "markdown",
      "source": [
        "## Описание датасета"
      ],
      "metadata": {
        "id": "pEzaQiSB8fK1"
      }
    },
    {
      "cell_type": "code",
      "source": [
        "def data_analysis(labels):\n",
        "    unique, counts = np.unique(labels, return_counts=True)\n",
        "    unique_names = ['' for i in range(len(unique))]\n",
        "    for i in range(len(unique)):\n",
        "        unique_names[i] = label_names[np.int64(unique[i])]\n",
        "    return dict(zip(unique_names, counts))"
      ],
      "metadata": {
        "id": "Xo1OhZGz8hpf"
      },
      "execution_count": 14,
      "outputs": []
    },
    {
      "cell_type": "code",
      "source": [
        "batch_analysis = pd.DataFrame(columns = label_names)\n",
        "rows = []\n",
        "rows.append(data_analysis(y_train))\n",
        "rows.append(data_analysis(y_val))\n",
        "rows.append(data_analysis(y_test))\n",
        "batches_analysis = pd.DataFrame()\n",
        "batches_analysis['name'] = ['train', 'val', 'test']\n",
        "batches_analysis['size'] = [y_train.shape[0],y_val.shape[0], y_test.shape[0] ]\n",
        "batches_analysis = batches_analysis.join(pd.DataFrame.from_dict(rows, orient='columns'))\n",
        "# batches_analysis['average'] = np.average(batches_analysis[label_names], axis=1)\n",
        "batches_analysis['std'] = np.std(batches_analysis[label_names], axis=1)"
      ],
      "metadata": {
        "id": "aWQ1KjH09zIH"
      },
      "execution_count": 15,
      "outputs": []
    },
    {
      "cell_type": "code",
      "source": [
        "batches_analysis[['name', 'size', 'std']]"
      ],
      "metadata": {
        "colab": {
          "base_uri": "https://localhost:8080/",
          "height": 142
        },
        "id": "hcxfe5zU_MaU",
        "outputId": "5695b1c7-011e-42be-a4a6-d77603af1ea5"
      },
      "execution_count": 16,
      "outputs": [
        {
          "output_type": "execute_result",
          "data": {
            "text/plain": [
              "    name   size        std\n",
              "0  train  40000  27.978563\n",
              "1    val  10000  27.978563\n",
              "2   test  10000   0.000000"
            ],
            "text/html": [
              "\n",
              "\n",
              "  <div id=\"df-d946ba6d-c81d-48e7-9816-0a77c19a6f4d\">\n",
              "    <div class=\"colab-df-container\">\n",
              "      <div>\n",
              "<style scoped>\n",
              "    .dataframe tbody tr th:only-of-type {\n",
              "        vertical-align: middle;\n",
              "    }\n",
              "\n",
              "    .dataframe tbody tr th {\n",
              "        vertical-align: top;\n",
              "    }\n",
              "\n",
              "    .dataframe thead th {\n",
              "        text-align: right;\n",
              "    }\n",
              "</style>\n",
              "<table border=\"1\" class=\"dataframe\">\n",
              "  <thead>\n",
              "    <tr style=\"text-align: right;\">\n",
              "      <th></th>\n",
              "      <th>name</th>\n",
              "      <th>size</th>\n",
              "      <th>std</th>\n",
              "    </tr>\n",
              "  </thead>\n",
              "  <tbody>\n",
              "    <tr>\n",
              "      <th>0</th>\n",
              "      <td>train</td>\n",
              "      <td>40000</td>\n",
              "      <td>27.978563</td>\n",
              "    </tr>\n",
              "    <tr>\n",
              "      <th>1</th>\n",
              "      <td>val</td>\n",
              "      <td>10000</td>\n",
              "      <td>27.978563</td>\n",
              "    </tr>\n",
              "    <tr>\n",
              "      <th>2</th>\n",
              "      <td>test</td>\n",
              "      <td>10000</td>\n",
              "      <td>0.000000</td>\n",
              "    </tr>\n",
              "  </tbody>\n",
              "</table>\n",
              "</div>\n",
              "      <button class=\"colab-df-convert\" onclick=\"convertToInteractive('df-d946ba6d-c81d-48e7-9816-0a77c19a6f4d')\"\n",
              "              title=\"Convert this dataframe to an interactive table.\"\n",
              "              style=\"display:none;\">\n",
              "\n",
              "  <svg xmlns=\"http://www.w3.org/2000/svg\" height=\"24px\"viewBox=\"0 0 24 24\"\n",
              "       width=\"24px\">\n",
              "    <path d=\"M0 0h24v24H0V0z\" fill=\"none\"/>\n",
              "    <path d=\"M18.56 5.44l.94 2.06.94-2.06 2.06-.94-2.06-.94-.94-2.06-.94 2.06-2.06.94zm-11 1L8.5 8.5l.94-2.06 2.06-.94-2.06-.94L8.5 2.5l-.94 2.06-2.06.94zm10 10l.94 2.06.94-2.06 2.06-.94-2.06-.94-.94-2.06-.94 2.06-2.06.94z\"/><path d=\"M17.41 7.96l-1.37-1.37c-.4-.4-.92-.59-1.43-.59-.52 0-1.04.2-1.43.59L10.3 9.45l-7.72 7.72c-.78.78-.78 2.05 0 2.83L4 21.41c.39.39.9.59 1.41.59.51 0 1.02-.2 1.41-.59l7.78-7.78 2.81-2.81c.8-.78.8-2.07 0-2.86zM5.41 20L4 18.59l7.72-7.72 1.47 1.35L5.41 20z\"/>\n",
              "  </svg>\n",
              "      </button>\n",
              "\n",
              "\n",
              "\n",
              "    <div id=\"df-b0948383-b969-4dde-827f-b6550dad8ff3\">\n",
              "      <button class=\"colab-df-quickchart\" onclick=\"quickchart('df-b0948383-b969-4dde-827f-b6550dad8ff3')\"\n",
              "              title=\"Suggest charts.\"\n",
              "              style=\"display:none;\">\n",
              "\n",
              "<svg xmlns=\"http://www.w3.org/2000/svg\" height=\"24px\"viewBox=\"0 0 24 24\"\n",
              "     width=\"24px\">\n",
              "    <g>\n",
              "        <path d=\"M19 3H5c-1.1 0-2 .9-2 2v14c0 1.1.9 2 2 2h14c1.1 0 2-.9 2-2V5c0-1.1-.9-2-2-2zM9 17H7v-7h2v7zm4 0h-2V7h2v10zm4 0h-2v-4h2v4z\"/>\n",
              "    </g>\n",
              "</svg>\n",
              "      </button>\n",
              "    </div>\n",
              "\n",
              "<style>\n",
              "  .colab-df-quickchart {\n",
              "    background-color: #E8F0FE;\n",
              "    border: none;\n",
              "    border-radius: 50%;\n",
              "    cursor: pointer;\n",
              "    display: none;\n",
              "    fill: #1967D2;\n",
              "    height: 32px;\n",
              "    padding: 0 0 0 0;\n",
              "    width: 32px;\n",
              "  }\n",
              "\n",
              "  .colab-df-quickchart:hover {\n",
              "    background-color: #E2EBFA;\n",
              "    box-shadow: 0px 1px 2px rgba(60, 64, 67, 0.3), 0px 1px 3px 1px rgba(60, 64, 67, 0.15);\n",
              "    fill: #174EA6;\n",
              "  }\n",
              "\n",
              "  [theme=dark] .colab-df-quickchart {\n",
              "    background-color: #3B4455;\n",
              "    fill: #D2E3FC;\n",
              "  }\n",
              "\n",
              "  [theme=dark] .colab-df-quickchart:hover {\n",
              "    background-color: #434B5C;\n",
              "    box-shadow: 0px 1px 3px 1px rgba(0, 0, 0, 0.15);\n",
              "    filter: drop-shadow(0px 1px 2px rgba(0, 0, 0, 0.3));\n",
              "    fill: #FFFFFF;\n",
              "  }\n",
              "</style>\n",
              "\n",
              "    <script>\n",
              "      async function quickchart(key) {\n",
              "        const containerElement = document.querySelector('#' + key);\n",
              "        const charts = await google.colab.kernel.invokeFunction(\n",
              "            'suggestCharts', [key], {});\n",
              "      }\n",
              "    </script>\n",
              "\n",
              "      <script>\n",
              "\n",
              "function displayQuickchartButton(domScope) {\n",
              "  let quickchartButtonEl =\n",
              "    domScope.querySelector('#df-b0948383-b969-4dde-827f-b6550dad8ff3 button.colab-df-quickchart');\n",
              "  quickchartButtonEl.style.display =\n",
              "    google.colab.kernel.accessAllowed ? 'block' : 'none';\n",
              "}\n",
              "\n",
              "        displayQuickchartButton(document);\n",
              "      </script>\n",
              "      <style>\n",
              "    .colab-df-container {\n",
              "      display:flex;\n",
              "      flex-wrap:wrap;\n",
              "      gap: 12px;\n",
              "    }\n",
              "\n",
              "    .colab-df-convert {\n",
              "      background-color: #E8F0FE;\n",
              "      border: none;\n",
              "      border-radius: 50%;\n",
              "      cursor: pointer;\n",
              "      display: none;\n",
              "      fill: #1967D2;\n",
              "      height: 32px;\n",
              "      padding: 0 0 0 0;\n",
              "      width: 32px;\n",
              "    }\n",
              "\n",
              "    .colab-df-convert:hover {\n",
              "      background-color: #E2EBFA;\n",
              "      box-shadow: 0px 1px 2px rgba(60, 64, 67, 0.3), 0px 1px 3px 1px rgba(60, 64, 67, 0.15);\n",
              "      fill: #174EA6;\n",
              "    }\n",
              "\n",
              "    [theme=dark] .colab-df-convert {\n",
              "      background-color: #3B4455;\n",
              "      fill: #D2E3FC;\n",
              "    }\n",
              "\n",
              "    [theme=dark] .colab-df-convert:hover {\n",
              "      background-color: #434B5C;\n",
              "      box-shadow: 0px 1px 3px 1px rgba(0, 0, 0, 0.15);\n",
              "      filter: drop-shadow(0px 1px 2px rgba(0, 0, 0, 0.3));\n",
              "      fill: #FFFFFF;\n",
              "    }\n",
              "  </style>\n",
              "\n",
              "      <script>\n",
              "        const buttonEl =\n",
              "          document.querySelector('#df-d946ba6d-c81d-48e7-9816-0a77c19a6f4d button.colab-df-convert');\n",
              "        buttonEl.style.display =\n",
              "          google.colab.kernel.accessAllowed ? 'block' : 'none';\n",
              "\n",
              "        async function convertToInteractive(key) {\n",
              "          const element = document.querySelector('#df-d946ba6d-c81d-48e7-9816-0a77c19a6f4d');\n",
              "          const dataTable =\n",
              "            await google.colab.kernel.invokeFunction('convertToInteractive',\n",
              "                                                     [key], {});\n",
              "          if (!dataTable) return;\n",
              "\n",
              "          const docLinkHtml = 'Like what you see? Visit the ' +\n",
              "            '<a target=\"_blank\" href=https://colab.research.google.com/notebooks/data_table.ipynb>data table notebook</a>'\n",
              "            + ' to learn more about interactive tables.';\n",
              "          element.innerHTML = '';\n",
              "          dataTable['output_type'] = 'display_data';\n",
              "          await google.colab.output.renderOutput(dataTable, element);\n",
              "          const docLink = document.createElement('div');\n",
              "          docLink.innerHTML = docLinkHtml;\n",
              "          element.appendChild(docLink);\n",
              "        }\n",
              "      </script>\n",
              "    </div>\n",
              "  </div>\n"
            ]
          },
          "metadata": {},
          "execution_count": 16
        }
      ]
    },
    {
      "cell_type": "code",
      "source": [
        "batches_analysis[['name'] + label_names]"
      ],
      "metadata": {
        "colab": {
          "base_uri": "https://localhost:8080/",
          "height": 142
        },
        "id": "l1XJH1HP_VPI",
        "outputId": "580f5757-8a72-47bd-9dce-048c2e20e8e4"
      },
      "execution_count": 17,
      "outputs": [
        {
          "output_type": "execute_result",
          "data": {
            "text/plain": [
              "    name  airplane  automobile  bird   cat  deer   dog  frog  horse  ship  \\\n",
              "0  train      4025        3943  4008  4037  3967  4022  3992   4016  4012   \n",
              "1    val       975        1057   992   963  1033   978  1008    984   988   \n",
              "2   test      1000        1000  1000  1000  1000  1000  1000   1000  1000   \n",
              "\n",
              "   truck  \n",
              "0   3978  \n",
              "1   1022  \n",
              "2   1000  "
            ],
            "text/html": [
              "\n",
              "\n",
              "  <div id=\"df-180850f6-f2be-4fec-955e-9545f95c725c\">\n",
              "    <div class=\"colab-df-container\">\n",
              "      <div>\n",
              "<style scoped>\n",
              "    .dataframe tbody tr th:only-of-type {\n",
              "        vertical-align: middle;\n",
              "    }\n",
              "\n",
              "    .dataframe tbody tr th {\n",
              "        vertical-align: top;\n",
              "    }\n",
              "\n",
              "    .dataframe thead th {\n",
              "        text-align: right;\n",
              "    }\n",
              "</style>\n",
              "<table border=\"1\" class=\"dataframe\">\n",
              "  <thead>\n",
              "    <tr style=\"text-align: right;\">\n",
              "      <th></th>\n",
              "      <th>name</th>\n",
              "      <th>airplane</th>\n",
              "      <th>automobile</th>\n",
              "      <th>bird</th>\n",
              "      <th>cat</th>\n",
              "      <th>deer</th>\n",
              "      <th>dog</th>\n",
              "      <th>frog</th>\n",
              "      <th>horse</th>\n",
              "      <th>ship</th>\n",
              "      <th>truck</th>\n",
              "    </tr>\n",
              "  </thead>\n",
              "  <tbody>\n",
              "    <tr>\n",
              "      <th>0</th>\n",
              "      <td>train</td>\n",
              "      <td>4025</td>\n",
              "      <td>3943</td>\n",
              "      <td>4008</td>\n",
              "      <td>4037</td>\n",
              "      <td>3967</td>\n",
              "      <td>4022</td>\n",
              "      <td>3992</td>\n",
              "      <td>4016</td>\n",
              "      <td>4012</td>\n",
              "      <td>3978</td>\n",
              "    </tr>\n",
              "    <tr>\n",
              "      <th>1</th>\n",
              "      <td>val</td>\n",
              "      <td>975</td>\n",
              "      <td>1057</td>\n",
              "      <td>992</td>\n",
              "      <td>963</td>\n",
              "      <td>1033</td>\n",
              "      <td>978</td>\n",
              "      <td>1008</td>\n",
              "      <td>984</td>\n",
              "      <td>988</td>\n",
              "      <td>1022</td>\n",
              "    </tr>\n",
              "    <tr>\n",
              "      <th>2</th>\n",
              "      <td>test</td>\n",
              "      <td>1000</td>\n",
              "      <td>1000</td>\n",
              "      <td>1000</td>\n",
              "      <td>1000</td>\n",
              "      <td>1000</td>\n",
              "      <td>1000</td>\n",
              "      <td>1000</td>\n",
              "      <td>1000</td>\n",
              "      <td>1000</td>\n",
              "      <td>1000</td>\n",
              "    </tr>\n",
              "  </tbody>\n",
              "</table>\n",
              "</div>\n",
              "      <button class=\"colab-df-convert\" onclick=\"convertToInteractive('df-180850f6-f2be-4fec-955e-9545f95c725c')\"\n",
              "              title=\"Convert this dataframe to an interactive table.\"\n",
              "              style=\"display:none;\">\n",
              "\n",
              "  <svg xmlns=\"http://www.w3.org/2000/svg\" height=\"24px\"viewBox=\"0 0 24 24\"\n",
              "       width=\"24px\">\n",
              "    <path d=\"M0 0h24v24H0V0z\" fill=\"none\"/>\n",
              "    <path d=\"M18.56 5.44l.94 2.06.94-2.06 2.06-.94-2.06-.94-.94-2.06-.94 2.06-2.06.94zm-11 1L8.5 8.5l.94-2.06 2.06-.94-2.06-.94L8.5 2.5l-.94 2.06-2.06.94zm10 10l.94 2.06.94-2.06 2.06-.94-2.06-.94-.94-2.06-.94 2.06-2.06.94z\"/><path d=\"M17.41 7.96l-1.37-1.37c-.4-.4-.92-.59-1.43-.59-.52 0-1.04.2-1.43.59L10.3 9.45l-7.72 7.72c-.78.78-.78 2.05 0 2.83L4 21.41c.39.39.9.59 1.41.59.51 0 1.02-.2 1.41-.59l7.78-7.78 2.81-2.81c.8-.78.8-2.07 0-2.86zM5.41 20L4 18.59l7.72-7.72 1.47 1.35L5.41 20z\"/>\n",
              "  </svg>\n",
              "      </button>\n",
              "\n",
              "\n",
              "\n",
              "    <div id=\"df-234794d2-07e3-4260-bc7e-8050d7d9a1cc\">\n",
              "      <button class=\"colab-df-quickchart\" onclick=\"quickchart('df-234794d2-07e3-4260-bc7e-8050d7d9a1cc')\"\n",
              "              title=\"Suggest charts.\"\n",
              "              style=\"display:none;\">\n",
              "\n",
              "<svg xmlns=\"http://www.w3.org/2000/svg\" height=\"24px\"viewBox=\"0 0 24 24\"\n",
              "     width=\"24px\">\n",
              "    <g>\n",
              "        <path d=\"M19 3H5c-1.1 0-2 .9-2 2v14c0 1.1.9 2 2 2h14c1.1 0 2-.9 2-2V5c0-1.1-.9-2-2-2zM9 17H7v-7h2v7zm4 0h-2V7h2v10zm4 0h-2v-4h2v4z\"/>\n",
              "    </g>\n",
              "</svg>\n",
              "      </button>\n",
              "    </div>\n",
              "\n",
              "<style>\n",
              "  .colab-df-quickchart {\n",
              "    background-color: #E8F0FE;\n",
              "    border: none;\n",
              "    border-radius: 50%;\n",
              "    cursor: pointer;\n",
              "    display: none;\n",
              "    fill: #1967D2;\n",
              "    height: 32px;\n",
              "    padding: 0 0 0 0;\n",
              "    width: 32px;\n",
              "  }\n",
              "\n",
              "  .colab-df-quickchart:hover {\n",
              "    background-color: #E2EBFA;\n",
              "    box-shadow: 0px 1px 2px rgba(60, 64, 67, 0.3), 0px 1px 3px 1px rgba(60, 64, 67, 0.15);\n",
              "    fill: #174EA6;\n",
              "  }\n",
              "\n",
              "  [theme=dark] .colab-df-quickchart {\n",
              "    background-color: #3B4455;\n",
              "    fill: #D2E3FC;\n",
              "  }\n",
              "\n",
              "  [theme=dark] .colab-df-quickchart:hover {\n",
              "    background-color: #434B5C;\n",
              "    box-shadow: 0px 1px 3px 1px rgba(0, 0, 0, 0.15);\n",
              "    filter: drop-shadow(0px 1px 2px rgba(0, 0, 0, 0.3));\n",
              "    fill: #FFFFFF;\n",
              "  }\n",
              "</style>\n",
              "\n",
              "    <script>\n",
              "      async function quickchart(key) {\n",
              "        const containerElement = document.querySelector('#' + key);\n",
              "        const charts = await google.colab.kernel.invokeFunction(\n",
              "            'suggestCharts', [key], {});\n",
              "      }\n",
              "    </script>\n",
              "\n",
              "      <script>\n",
              "\n",
              "function displayQuickchartButton(domScope) {\n",
              "  let quickchartButtonEl =\n",
              "    domScope.querySelector('#df-234794d2-07e3-4260-bc7e-8050d7d9a1cc button.colab-df-quickchart');\n",
              "  quickchartButtonEl.style.display =\n",
              "    google.colab.kernel.accessAllowed ? 'block' : 'none';\n",
              "}\n",
              "\n",
              "        displayQuickchartButton(document);\n",
              "      </script>\n",
              "      <style>\n",
              "    .colab-df-container {\n",
              "      display:flex;\n",
              "      flex-wrap:wrap;\n",
              "      gap: 12px;\n",
              "    }\n",
              "\n",
              "    .colab-df-convert {\n",
              "      background-color: #E8F0FE;\n",
              "      border: none;\n",
              "      border-radius: 50%;\n",
              "      cursor: pointer;\n",
              "      display: none;\n",
              "      fill: #1967D2;\n",
              "      height: 32px;\n",
              "      padding: 0 0 0 0;\n",
              "      width: 32px;\n",
              "    }\n",
              "\n",
              "    .colab-df-convert:hover {\n",
              "      background-color: #E2EBFA;\n",
              "      box-shadow: 0px 1px 2px rgba(60, 64, 67, 0.3), 0px 1px 3px 1px rgba(60, 64, 67, 0.15);\n",
              "      fill: #174EA6;\n",
              "    }\n",
              "\n",
              "    [theme=dark] .colab-df-convert {\n",
              "      background-color: #3B4455;\n",
              "      fill: #D2E3FC;\n",
              "    }\n",
              "\n",
              "    [theme=dark] .colab-df-convert:hover {\n",
              "      background-color: #434B5C;\n",
              "      box-shadow: 0px 1px 3px 1px rgba(0, 0, 0, 0.15);\n",
              "      filter: drop-shadow(0px 1px 2px rgba(0, 0, 0, 0.3));\n",
              "      fill: #FFFFFF;\n",
              "    }\n",
              "  </style>\n",
              "\n",
              "      <script>\n",
              "        const buttonEl =\n",
              "          document.querySelector('#df-180850f6-f2be-4fec-955e-9545f95c725c button.colab-df-convert');\n",
              "        buttonEl.style.display =\n",
              "          google.colab.kernel.accessAllowed ? 'block' : 'none';\n",
              "\n",
              "        async function convertToInteractive(key) {\n",
              "          const element = document.querySelector('#df-180850f6-f2be-4fec-955e-9545f95c725c');\n",
              "          const dataTable =\n",
              "            await google.colab.kernel.invokeFunction('convertToInteractive',\n",
              "                                                     [key], {});\n",
              "          if (!dataTable) return;\n",
              "\n",
              "          const docLinkHtml = 'Like what you see? Visit the ' +\n",
              "            '<a target=\"_blank\" href=https://colab.research.google.com/notebooks/data_table.ipynb>data table notebook</a>'\n",
              "            + ' to learn more about interactive tables.';\n",
              "          element.innerHTML = '';\n",
              "          dataTable['output_type'] = 'display_data';\n",
              "          await google.colab.output.renderOutput(dataTable, element);\n",
              "          const docLink = document.createElement('div');\n",
              "          docLink.innerHTML = docLinkHtml;\n",
              "          element.appendChild(docLink);\n",
              "        }\n",
              "      </script>\n",
              "    </div>\n",
              "  </div>\n"
            ]
          },
          "metadata": {},
          "execution_count": 17
        }
      ]
    },
    {
      "cell_type": "markdown",
      "source": [
        "# Создание нейростети MobileNet"
      ],
      "metadata": {
        "id": "h7FfDAVc_8F4"
      }
    },
    {
      "cell_type": "code",
      "source": [
        "model1 = tf.keras.applications.MobileNet(\n",
        "    input_shape=(32, 32, 3), #image_size\n",
        "    alpha=1.0,\n",
        "    depth_multiplier=1,\n",
        "    dropout=0.001,\n",
        "    include_top=True,\n",
        "    weights=None,\n",
        "    input_tensor=None,\n",
        "    pooling=None,\n",
        "    classes=10, #cifar-10\n",
        "    classifier_activation=\"softmax\"\n",
        ")"
      ],
      "metadata": {
        "id": "U9mnBzsXADLA"
      },
      "execution_count": 61,
      "outputs": []
    },
    {
      "cell_type": "code",
      "source": [
        "model1.compile(optimizer='Adam',loss='categorical_crossentropy',metrics=['accuracy'])"
      ],
      "metadata": {
        "id": "rmtzT9Bh97Wj"
      },
      "execution_count": 62,
      "outputs": []
    },
    {
      "cell_type": "code",
      "source": [
        "model1.summary()"
      ],
      "metadata": {
        "colab": {
          "base_uri": "https://localhost:8080/"
        },
        "id": "ePlSEgwe-COv",
        "outputId": "20f069f0-c29c-4985-86c9-2f27ee9331cb"
      },
      "execution_count": 63,
      "outputs": [
        {
          "output_type": "stream",
          "name": "stdout",
          "text": [
            "Model: \"mobilenet_1.00_32\"\n",
            "_________________________________________________________________\n",
            " Layer (type)                Output Shape              Param #   \n",
            "=================================================================\n",
            " input_7 (InputLayer)        [(None, 32, 32, 3)]       0         \n",
            "                                                                 \n",
            " conv1 (Conv2D)              (None, 16, 16, 32)        864       \n",
            "                                                                 \n",
            " conv1_bn (BatchNormalizatio  (None, 16, 16, 32)       128       \n",
            " n)                                                              \n",
            "                                                                 \n",
            " conv1_relu (ReLU)           (None, 16, 16, 32)        0         \n",
            "                                                                 \n",
            " conv_dw_1 (DepthwiseConv2D)  (None, 16, 16, 32)       288       \n",
            "                                                                 \n",
            " conv_dw_1_bn (BatchNormaliz  (None, 16, 16, 32)       128       \n",
            " ation)                                                          \n",
            "                                                                 \n",
            " conv_dw_1_relu (ReLU)       (None, 16, 16, 32)        0         \n",
            "                                                                 \n",
            " conv_pw_1 (Conv2D)          (None, 16, 16, 64)        2048      \n",
            "                                                                 \n",
            " conv_pw_1_bn (BatchNormaliz  (None, 16, 16, 64)       256       \n",
            " ation)                                                          \n",
            "                                                                 \n",
            " conv_pw_1_relu (ReLU)       (None, 16, 16, 64)        0         \n",
            "                                                                 \n",
            " conv_pad_2 (ZeroPadding2D)  (None, 17, 17, 64)        0         \n",
            "                                                                 \n",
            " conv_dw_2 (DepthwiseConv2D)  (None, 8, 8, 64)         576       \n",
            "                                                                 \n",
            " conv_dw_2_bn (BatchNormaliz  (None, 8, 8, 64)         256       \n",
            " ation)                                                          \n",
            "                                                                 \n",
            " conv_dw_2_relu (ReLU)       (None, 8, 8, 64)          0         \n",
            "                                                                 \n",
            " conv_pw_2 (Conv2D)          (None, 8, 8, 128)         8192      \n",
            "                                                                 \n",
            " conv_pw_2_bn (BatchNormaliz  (None, 8, 8, 128)        512       \n",
            " ation)                                                          \n",
            "                                                                 \n",
            " conv_pw_2_relu (ReLU)       (None, 8, 8, 128)         0         \n",
            "                                                                 \n",
            " conv_dw_3 (DepthwiseConv2D)  (None, 8, 8, 128)        1152      \n",
            "                                                                 \n",
            " conv_dw_3_bn (BatchNormaliz  (None, 8, 8, 128)        512       \n",
            " ation)                                                          \n",
            "                                                                 \n",
            " conv_dw_3_relu (ReLU)       (None, 8, 8, 128)         0         \n",
            "                                                                 \n",
            " conv_pw_3 (Conv2D)          (None, 8, 8, 128)         16384     \n",
            "                                                                 \n",
            " conv_pw_3_bn (BatchNormaliz  (None, 8, 8, 128)        512       \n",
            " ation)                                                          \n",
            "                                                                 \n",
            " conv_pw_3_relu (ReLU)       (None, 8, 8, 128)         0         \n",
            "                                                                 \n",
            " conv_pad_4 (ZeroPadding2D)  (None, 9, 9, 128)         0         \n",
            "                                                                 \n",
            " conv_dw_4 (DepthwiseConv2D)  (None, 4, 4, 128)        1152      \n",
            "                                                                 \n",
            " conv_dw_4_bn (BatchNormaliz  (None, 4, 4, 128)        512       \n",
            " ation)                                                          \n",
            "                                                                 \n",
            " conv_dw_4_relu (ReLU)       (None, 4, 4, 128)         0         \n",
            "                                                                 \n",
            " conv_pw_4 (Conv2D)          (None, 4, 4, 256)         32768     \n",
            "                                                                 \n",
            " conv_pw_4_bn (BatchNormaliz  (None, 4, 4, 256)        1024      \n",
            " ation)                                                          \n",
            "                                                                 \n",
            " conv_pw_4_relu (ReLU)       (None, 4, 4, 256)         0         \n",
            "                                                                 \n",
            " conv_dw_5 (DepthwiseConv2D)  (None, 4, 4, 256)        2304      \n",
            "                                                                 \n",
            " conv_dw_5_bn (BatchNormaliz  (None, 4, 4, 256)        1024      \n",
            " ation)                                                          \n",
            "                                                                 \n",
            " conv_dw_5_relu (ReLU)       (None, 4, 4, 256)         0         \n",
            "                                                                 \n",
            " conv_pw_5 (Conv2D)          (None, 4, 4, 256)         65536     \n",
            "                                                                 \n",
            " conv_pw_5_bn (BatchNormaliz  (None, 4, 4, 256)        1024      \n",
            " ation)                                                          \n",
            "                                                                 \n",
            " conv_pw_5_relu (ReLU)       (None, 4, 4, 256)         0         \n",
            "                                                                 \n",
            " conv_pad_6 (ZeroPadding2D)  (None, 5, 5, 256)         0         \n",
            "                                                                 \n",
            " conv_dw_6 (DepthwiseConv2D)  (None, 2, 2, 256)        2304      \n",
            "                                                                 \n",
            " conv_dw_6_bn (BatchNormaliz  (None, 2, 2, 256)        1024      \n",
            " ation)                                                          \n",
            "                                                                 \n",
            " conv_dw_6_relu (ReLU)       (None, 2, 2, 256)         0         \n",
            "                                                                 \n",
            " conv_pw_6 (Conv2D)          (None, 2, 2, 512)         131072    \n",
            "                                                                 \n",
            " conv_pw_6_bn (BatchNormaliz  (None, 2, 2, 512)        2048      \n",
            " ation)                                                          \n",
            "                                                                 \n",
            " conv_pw_6_relu (ReLU)       (None, 2, 2, 512)         0         \n",
            "                                                                 \n",
            " conv_dw_7 (DepthwiseConv2D)  (None, 2, 2, 512)        4608      \n",
            "                                                                 \n",
            " conv_dw_7_bn (BatchNormaliz  (None, 2, 2, 512)        2048      \n",
            " ation)                                                          \n",
            "                                                                 \n",
            " conv_dw_7_relu (ReLU)       (None, 2, 2, 512)         0         \n",
            "                                                                 \n",
            " conv_pw_7 (Conv2D)          (None, 2, 2, 512)         262144    \n",
            "                                                                 \n",
            " conv_pw_7_bn (BatchNormaliz  (None, 2, 2, 512)        2048      \n",
            " ation)                                                          \n",
            "                                                                 \n",
            " conv_pw_7_relu (ReLU)       (None, 2, 2, 512)         0         \n",
            "                                                                 \n",
            " conv_dw_8 (DepthwiseConv2D)  (None, 2, 2, 512)        4608      \n",
            "                                                                 \n",
            " conv_dw_8_bn (BatchNormaliz  (None, 2, 2, 512)        2048      \n",
            " ation)                                                          \n",
            "                                                                 \n",
            " conv_dw_8_relu (ReLU)       (None, 2, 2, 512)         0         \n",
            "                                                                 \n",
            " conv_pw_8 (Conv2D)          (None, 2, 2, 512)         262144    \n",
            "                                                                 \n",
            " conv_pw_8_bn (BatchNormaliz  (None, 2, 2, 512)        2048      \n",
            " ation)                                                          \n",
            "                                                                 \n",
            " conv_pw_8_relu (ReLU)       (None, 2, 2, 512)         0         \n",
            "                                                                 \n",
            " conv_dw_9 (DepthwiseConv2D)  (None, 2, 2, 512)        4608      \n",
            "                                                                 \n",
            " conv_dw_9_bn (BatchNormaliz  (None, 2, 2, 512)        2048      \n",
            " ation)                                                          \n",
            "                                                                 \n",
            " conv_dw_9_relu (ReLU)       (None, 2, 2, 512)         0         \n",
            "                                                                 \n",
            " conv_pw_9 (Conv2D)          (None, 2, 2, 512)         262144    \n",
            "                                                                 \n",
            " conv_pw_9_bn (BatchNormaliz  (None, 2, 2, 512)        2048      \n",
            " ation)                                                          \n",
            "                                                                 \n",
            " conv_pw_9_relu (ReLU)       (None, 2, 2, 512)         0         \n",
            "                                                                 \n",
            " conv_dw_10 (DepthwiseConv2D  (None, 2, 2, 512)        4608      \n",
            " )                                                               \n",
            "                                                                 \n",
            " conv_dw_10_bn (BatchNormali  (None, 2, 2, 512)        2048      \n",
            " zation)                                                         \n",
            "                                                                 \n",
            " conv_dw_10_relu (ReLU)      (None, 2, 2, 512)         0         \n",
            "                                                                 \n",
            " conv_pw_10 (Conv2D)         (None, 2, 2, 512)         262144    \n",
            "                                                                 \n",
            " conv_pw_10_bn (BatchNormali  (None, 2, 2, 512)        2048      \n",
            " zation)                                                         \n",
            "                                                                 \n",
            " conv_pw_10_relu (ReLU)      (None, 2, 2, 512)         0         \n",
            "                                                                 \n",
            " conv_dw_11 (DepthwiseConv2D  (None, 2, 2, 512)        4608      \n",
            " )                                                               \n",
            "                                                                 \n",
            " conv_dw_11_bn (BatchNormali  (None, 2, 2, 512)        2048      \n",
            " zation)                                                         \n",
            "                                                                 \n",
            " conv_dw_11_relu (ReLU)      (None, 2, 2, 512)         0         \n",
            "                                                                 \n",
            " conv_pw_11 (Conv2D)         (None, 2, 2, 512)         262144    \n",
            "                                                                 \n",
            " conv_pw_11_bn (BatchNormali  (None, 2, 2, 512)        2048      \n",
            " zation)                                                         \n",
            "                                                                 \n",
            " conv_pw_11_relu (ReLU)      (None, 2, 2, 512)         0         \n",
            "                                                                 \n",
            " conv_pad_12 (ZeroPadding2D)  (None, 3, 3, 512)        0         \n",
            "                                                                 \n",
            " conv_dw_12 (DepthwiseConv2D  (None, 1, 1, 512)        4608      \n",
            " )                                                               \n",
            "                                                                 \n",
            " conv_dw_12_bn (BatchNormali  (None, 1, 1, 512)        2048      \n",
            " zation)                                                         \n",
            "                                                                 \n",
            " conv_dw_12_relu (ReLU)      (None, 1, 1, 512)         0         \n",
            "                                                                 \n",
            " conv_pw_12 (Conv2D)         (None, 1, 1, 1024)        524288    \n",
            "                                                                 \n",
            " conv_pw_12_bn (BatchNormali  (None, 1, 1, 1024)       4096      \n",
            " zation)                                                         \n",
            "                                                                 \n",
            " conv_pw_12_relu (ReLU)      (None, 1, 1, 1024)        0         \n",
            "                                                                 \n",
            " conv_dw_13 (DepthwiseConv2D  (None, 1, 1, 1024)       9216      \n",
            " )                                                               \n",
            "                                                                 \n",
            " conv_dw_13_bn (BatchNormali  (None, 1, 1, 1024)       4096      \n",
            " zation)                                                         \n",
            "                                                                 \n",
            " conv_dw_13_relu (ReLU)      (None, 1, 1, 1024)        0         \n",
            "                                                                 \n",
            " conv_pw_13 (Conv2D)         (None, 1, 1, 1024)        1048576   \n",
            "                                                                 \n",
            " conv_pw_13_bn (BatchNormali  (None, 1, 1, 1024)       4096      \n",
            " zation)                                                         \n",
            "                                                                 \n",
            " conv_pw_13_relu (ReLU)      (None, 1, 1, 1024)        0         \n",
            "                                                                 \n",
            " global_average_pooling2d_1   (None, 1, 1, 1024)       0         \n",
            " (GlobalAveragePooling2D)                                        \n",
            "                                                                 \n",
            " dropout (Dropout)           (None, 1, 1, 1024)        0         \n",
            "                                                                 \n",
            " conv_preds (Conv2D)         (None, 1, 1, 10)          10250     \n",
            "                                                                 \n",
            " reshape_2 (Reshape)         (None, 10)                0         \n",
            "                                                                 \n",
            " predictions (Activation)    (None, 10)                0         \n",
            "                                                                 \n",
            "=================================================================\n",
            "Total params: 3,239,114\n",
            "Trainable params: 3,217,226\n",
            "Non-trainable params: 21,888\n",
            "_________________________________________________________________\n"
          ]
        }
      ]
    },
    {
      "cell_type": "markdown",
      "source": [
        "# Обучение нейросети"
      ],
      "metadata": {
        "id": "-6fHNwZV9b0W"
      }
    },
    {
      "cell_type": "code",
      "source": [
        "history = model1.fit(x_image_train, y_vect_train, batch_size = 64, epochs = 20, validation_data = (x_image_val, y_vect_val))"
      ],
      "metadata": {
        "colab": {
          "base_uri": "https://localhost:8080/"
        },
        "id": "42rcOR_l9lM3",
        "outputId": "e587646a-77dc-4615-8e42-ea11d56ec46b"
      },
      "execution_count": 66,
      "outputs": [
        {
          "output_type": "stream",
          "name": "stdout",
          "text": [
            "Epoch 1/20\n",
            "625/625 [==============================] - 449s 719ms/step - loss: 1.6378 - accuracy: 0.4012 - val_loss: 2.5182 - val_accuracy: 0.3678\n",
            "Epoch 2/20\n",
            "625/625 [==============================] - 425s 680ms/step - loss: 1.4653 - accuracy: 0.4701 - val_loss: 1.5946 - val_accuracy: 0.4515\n",
            "Epoch 3/20\n",
            "625/625 [==============================] - 430s 689ms/step - loss: 1.3684 - accuracy: 0.5112 - val_loss: 1.4417 - val_accuracy: 0.4954\n",
            "Epoch 4/20\n",
            "625/625 [==============================] - 435s 696ms/step - loss: 1.2595 - accuracy: 0.5515 - val_loss: 1.6034 - val_accuracy: 0.4842\n",
            "Epoch 5/20\n",
            "625/625 [==============================] - 435s 696ms/step - loss: 1.1838 - accuracy: 0.5827 - val_loss: 1.4140 - val_accuracy: 0.5103\n",
            "Epoch 6/20\n",
            "625/625 [==============================] - 445s 712ms/step - loss: 1.1242 - accuracy: 0.6030 - val_loss: 1.3317 - val_accuracy: 0.5436\n",
            "Epoch 7/20\n",
            "625/625 [==============================] - 438s 701ms/step - loss: 1.0688 - accuracy: 0.6245 - val_loss: 1.3351 - val_accuracy: 0.5714\n",
            "Epoch 8/20\n",
            "625/625 [==============================] - 434s 695ms/step - loss: 0.9626 - accuracy: 0.6630 - val_loss: 1.2857 - val_accuracy: 0.5865\n",
            "Epoch 9/20\n",
            "625/625 [==============================] - 429s 686ms/step - loss: 0.8968 - accuracy: 0.6884 - val_loss: 1.1061 - val_accuracy: 0.6278\n",
            "Epoch 10/20\n",
            "625/625 [==============================] - 444s 711ms/step - loss: 0.8257 - accuracy: 0.7139 - val_loss: 1.0654 - val_accuracy: 0.6420\n",
            "Epoch 11/20\n",
            "625/625 [==============================] - 437s 699ms/step - loss: 0.7735 - accuracy: 0.7305 - val_loss: 1.1812 - val_accuracy: 0.6142\n",
            "Epoch 12/20\n",
            "625/625 [==============================] - 432s 692ms/step - loss: 0.7436 - accuracy: 0.7438 - val_loss: 1.0872 - val_accuracy: 0.6489\n",
            "Epoch 13/20\n",
            "625/625 [==============================] - 441s 705ms/step - loss: 0.6560 - accuracy: 0.7724 - val_loss: 0.9778 - val_accuracy: 0.6851\n",
            "Epoch 14/20\n",
            "625/625 [==============================] - 431s 689ms/step - loss: 0.5878 - accuracy: 0.7965 - val_loss: 1.0676 - val_accuracy: 0.6724\n",
            "Epoch 15/20\n",
            "625/625 [==============================] - 431s 689ms/step - loss: 0.6050 - accuracy: 0.7928 - val_loss: 1.0366 - val_accuracy: 0.6728\n",
            "Epoch 16/20\n",
            "625/625 [==============================] - 446s 713ms/step - loss: 0.4886 - accuracy: 0.8296 - val_loss: 1.0397 - val_accuracy: 0.6747\n",
            "Epoch 17/20\n",
            "625/625 [==============================] - 434s 694ms/step - loss: 0.4683 - accuracy: 0.8393 - val_loss: 1.1201 - val_accuracy: 0.6703\n",
            "Epoch 18/20\n",
            "625/625 [==============================] - 430s 688ms/step - loss: 0.4480 - accuracy: 0.8454 - val_loss: 1.0700 - val_accuracy: 0.6877\n",
            "Epoch 19/20\n",
            "625/625 [==============================] - 423s 677ms/step - loss: 0.4059 - accuracy: 0.8616 - val_loss: 1.1898 - val_accuracy: 0.6603\n",
            "Epoch 20/20\n",
            "625/625 [==============================] - 442s 707ms/step - loss: 0.3457 - accuracy: 0.8795 - val_loss: 1.1468 - val_accuracy: 0.6835\n"
          ]
        }
      ]
    },
    {
      "cell_type": "code",
      "source": [
        "def draw_model_plot(history):\n",
        "\n",
        "    acc = history.history['accuracy']\n",
        "    val_acc = history.history['val_accuracy']\n",
        "    loss = history.history['loss']\n",
        "    val_loss = history.history['val_loss']\n",
        "\n",
        "    epoch_range = range(len(acc))\n",
        "\n",
        "    plt.plot(epoch_range, acc, label='Training accuracy')\n",
        "    plt.plot(epoch_range, val_acc, label='Validation accuracy')\n",
        "    plt.title('Training and validation accuracy')\n",
        "    plt.legend()\n",
        "\n",
        "    plt.figure()\n",
        "\n",
        "    plt.plot(epoch_range, loss, label='Training loss')\n",
        "    plt.plot(epoch_range, val_loss, label='Validation loss')\n",
        "    plt.title('Training and validation loss')\n",
        "    plt.legend()\n",
        "\n",
        "    plt.show()"
      ],
      "metadata": {
        "id": "VRcZ-fqI9tcP"
      },
      "execution_count": 71,
      "outputs": []
    },
    {
      "cell_type": "code",
      "source": [
        "draw_model_plot(history)"
      ],
      "metadata": {
        "colab": {
          "base_uri": "https://localhost:8080/",
          "height": 887
        },
        "id": "c05SGnswnRSl",
        "outputId": "d25465b4-435e-4402-d854-6d926fb38df2"
      },
      "execution_count": 72,
      "outputs": [
        {
          "output_type": "display_data",
          "data": {
            "text/plain": [
              "<Figure size 640x480 with 1 Axes>"
            ],
            "image/png": "[encoded data removed]"
          },
          "metadata": {}
        },
        {
          "output_type": "display_data",
          "data": {
            "text/plain": [
              "<Figure size 640x480 with 1 Axes>"
            ],
            "image/png": "[encoded data removed]"
          },
          "metadata": {}
        }
      ]
    },
    {
      "cell_type": "code",
      "source": [
        "loss, accuracy = model1.evaluate(x_image_test,y_vect_test)\n",
        "print(\"Accuracy for test data : \", accuracy)\n",
        "print(\"Loss for test data : \", loss)"
      ],
      "metadata": {
        "colab": {
          "base_uri": "https://localhost:8080/"
        },
        "id": "TfmZt7WA91pw",
        "outputId": "26c981b4-c0d4-4188-dfc9-cd88c015f06e"
      },
      "execution_count": 73,
      "outputs": [
        {
          "output_type": "stream",
          "name": "stdout",
          "text": [
            "313/313 [==============================] - 11s 34ms/step - loss: 1.1456 - accuracy: 0.6878\n",
            "Accuracy for test data :  0.6877999901771545\n",
            "Loss for test data :  1.1455578804016113\n"
          ]
        }
      ]
    },
    {
      "cell_type": "markdown",
      "source": [
        "# Результат обучения"
      ],
      "metadata": {
        "id": "_MHuyNgMndzd"
      }
    },
    {
      "cell_type": "markdown",
      "source": [
        "## Confusion matrix"
      ],
      "metadata": {
        "id": "JK2oAt8onuK9"
      }
    },
    {
      "cell_type": "code",
      "source": [
        "rounded_labels=np.argmax(y_vect_test, axis=1)\n",
        "\n",
        "preds = model1.predict(x_image_test, batch_size = 64, verbose = 1)\n",
        "preds = np.argmax(preds, axis=1) # to get the indices of max value in each row\n",
        "cr = confusion_matrix(rounded_labels, preds)\n",
        "print(\"The confusion Matrix: \\n\",cr)"
      ],
      "metadata": {
        "colab": {
          "base_uri": "https://localhost:8080/"
        },
        "id": "xMXWH_z6ngqC",
        "outputId": "41b546e9-dcf4-4a3f-fdf3-0ab9c5467c56"
      },
      "execution_count": 77,
      "outputs": [
        {
          "output_type": "stream",
          "name": "stdout",
          "text": [
            "157/157 [==============================] - 9s 58ms/step\n",
            "The confusion Matrix: \n",
            " [[826  16  13  36  18   3   5   4  58  21]\n",
            " [ 27 771   3  14   6  10   8   4  50 107]\n",
            " [161   3 499  84 112  39  59  17  22   4]\n",
            " [ 47   8  64 512  90 150  77  25  10  17]\n",
            " [ 42   4  50  57 704  26  57  49   8   3]\n",
            " [ 31   2  55 231  68 518  29  46  11   9]\n",
            " [ 21   2  34  64  58  21 776   3  20   1]\n",
            " [ 45   3  53  53 107  55  10 652   5  17]\n",
            " [ 79  21   8  25   2   7   3   6 827  22]\n",
            " [ 53  59  11  24   2  10   9  16  23 793]]\n"
          ]
        }
      ]
    },
    {
      "cell_type": "code",
      "source": [
        "fig, ax = plt.subplots(figsize=(7.5, 7.5))\n",
        "ax.matshow(cr, cmap=plt.cm.Blues, alpha=0.3)\n",
        "for i in range(cr.shape[0]):\n",
        "    for j in range(cr.shape[1]):\n",
        "        ax.text(x=j, y=i,s=cr[i, j], va='center', ha='center', size='xx-large')\n",
        "\n",
        "plt.xlabel('Predictions', fontsize=18)\n",
        "plt.ylabel('Actuals', fontsize=18)\n",
        "plt.title('Confusion Matrix', fontsize=18)\n",
        "plt.show()"
      ],
      "metadata": {
        "colab": {
          "base_uri": "https://localhost:8080/",
          "height": 699
        },
        "id": "3m6SpWFzn5sQ",
        "outputId": "baac611c-aa56-4252-ab0c-7d42de8d7453"
      },
      "execution_count": 78,
      "outputs": [
        {
          "output_type": "display_data",
          "data": {
            "text/plain": [
              "<Figure size 750x750 with 1 Axes>"
            ],
            "image/png": "[encoded data removed]"
          },
          "metadata": {}
        }
      ]
    },
    {
      "cell_type": "markdown",
      "source": [
        "## Classification report"
      ],
      "metadata": {
        "id": "qQ5EKbLloZnK"
      }
    },
    {
      "cell_type": "code",
      "source": [
        "print(classification_report(rounded_labels, preds))"
      ],
      "metadata": {
        "colab": {
          "base_uri": "https://localhost:8080/"
        },
        "id": "sGRCBA5Togc8",
        "outputId": "2391fefe-6b0f-448b-af25-3ff570a18449"
      },
      "execution_count": 79,
      "outputs": [
        {
          "output_type": "stream",
          "name": "stdout",
          "text": [
            "              precision    recall  f1-score   support\n",
            "\n",
            "           0       0.62      0.83      0.71      1000\n",
            "           1       0.87      0.77      0.82      1000\n",
            "           2       0.63      0.50      0.56      1000\n",
            "           3       0.47      0.51      0.49      1000\n",
            "           4       0.60      0.70      0.65      1000\n",
            "           5       0.62      0.52      0.56      1000\n",
            "           6       0.75      0.78      0.76      1000\n",
            "           7       0.79      0.65      0.72      1000\n",
            "           8       0.80      0.83      0.81      1000\n",
            "           9       0.80      0.79      0.80      1000\n",
            "\n",
            "    accuracy                           0.69     10000\n",
            "   macro avg       0.69      0.69      0.69     10000\n",
            "weighted avg       0.69      0.69      0.69     10000\n",
            "\n"
          ]
        }
      ]
    },
    {
      "cell_type": "markdown",
      "source": [
        "## Precision"
      ],
      "metadata": {
        "id": "j6eHbEB_op9o"
      }
    },
    {
      "cell_type": "code",
      "source": [
        "acc={}\n",
        "l=len(cr)\n",
        "for i in range(0,l):\n",
        "    acc[i]=cr[i][i]/sum(cr[:, i])\n",
        "print(\"Precision: \\n\",acc)"
      ],
      "metadata": {
        "colab": {
          "base_uri": "https://localhost:8080/"
        },
        "id": "A5cOogtVot1v",
        "outputId": "b2e8cfe0-e6bc-4160-97ab-ae58409f4b3c"
      },
      "execution_count": 83,
      "outputs": [
        {
          "output_type": "stream",
          "name": "stdout",
          "text": [
            "Precision: \n",
            " {0: 0.6201201201201201, 1: 0.8672665916760405, 2: 0.6316455696202532, 3: 0.46545454545454545, 4: 0.6032562125107113, 5: 0.6174016686531585, 6: 0.7512100677637947, 7: 0.7931873479318735, 8: 0.7998065764023211, 9: 0.7977867203219315}\n"
          ]
        }
      ]
    },
    {
      "cell_type": "markdown",
      "source": [
        "## Recall"
      ],
      "metadata": {
        "id": "F04DCHAWorUy"
      }
    },
    {
      "cell_type": "code",
      "source": [
        "Recall ={}\n",
        "for i in range(0,l):\n",
        "     Recall[i]= cr[i][i]/sum(cr[i,:])\n",
        "print(\"Recall: \\n\",Recall)"
      ],
      "metadata": {
        "colab": {
          "base_uri": "https://localhost:8080/"
        },
        "id": "e2P1et5yo5xH",
        "outputId": "df7c17ea-48b9-434d-9def-1746ecae07cc"
      },
      "execution_count": 81,
      "outputs": [
        {
          "output_type": "stream",
          "name": "stdout",
          "text": [
            "Recall: \n",
            " {0: 0.826, 1: 0.771, 2: 0.499, 3: 0.512, 4: 0.704, 5: 0.518, 6: 0.776, 7: 0.652, 8: 0.827, 9: 0.793}\n"
          ]
        }
      ]
    },
    {
      "cell_type": "markdown",
      "source": [
        "## F1-score"
      ],
      "metadata": {
        "id": "P5jHj-u6oukJ"
      }
    },
    {
      "cell_type": "code",
      "source": [
        "f1 ={}\n",
        "for i in range(0,l):\n",
        "     f1[i] = 2 * (cr[i,i] / sum(cr[:,i])) * (cr[i,i]/sum(cr[i,:])) / ((cr[i,i] / sum(cr[:,i])) + (cr[i,i]/sum(cr[i,:])))\n",
        "print(\"F1- score: \\n\",f1)"
      ],
      "metadata": {
        "colab": {
          "base_uri": "https://localhost:8080/"
        },
        "id": "d0PvJpy2oxf4",
        "outputId": "7fd6e713-f28e-434a-e18f-3115075716fb"
      },
      "execution_count": 82,
      "outputs": [
        {
          "output_type": "stream",
          "name": "stdout",
          "text": [
            "F1- score: \n",
            " {0: 0.7084048027444253, 1: 0.8163049232398094, 2: 0.5575418994413408, 3: 0.4876190476190476, 4: 0.649746192893401, 5: 0.5633496465470365, 6: 0.76340383669454, 7: 0.7156970362239298, 8: 0.8131760078662733, 9: 0.7953861584754263}\n"
          ]
        }
      ]
    }
  ]
}